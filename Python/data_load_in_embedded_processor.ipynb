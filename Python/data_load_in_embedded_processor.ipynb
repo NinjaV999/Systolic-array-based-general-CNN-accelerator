{
 "cells": [
  {
   "cell_type": "code",
   "execution_count": 6,
   "id": "a3fa2af9",
   "metadata": {},
   "outputs": [],
   "source": [
    "\"\"\"\n",
    "Data quantization in embedded processor: float32 -> integer\n",
    "\"\"\"\n",
    "def change(file_path1,file_path2):\n",
    "    with open(file_path1, 'r') as infile, open(file_path2, 'w') as outfile:\n",
    "        index = 0\n",
    "        for line in infile:\n",
    "      \n",
    "            number = int( round(float(line.strip().rstrip(','))*2**15))\n",
    "            outfile.write(f\"param_base[{index}] = {number};\\n\")\n",
    "            index += 1\n",
    "      "
   ]
  },
  {
   "cell_type": "code",
   "execution_count": 10,
   "id": "0f9fab63",
   "metadata": {},
   "outputs": [],
   "source": [
    "\n",
    "\n",
    "file_path_conv1= \"./cnn_parameter/conv1.weight.txt\"\n",
    "file_path_base1 = \"./cnn_parameter/conv1.bias.txt\"\n",
    "file_path_conv2= \"./cnn_parameter/conv2.weight.txt\"\n",
    "file_path_base2 = \"./cnn_parameter/conv2.bias.txt\"\n",
    "file_path_conv3= \"./cnn_parameter/conv3.weight.txt\"\n",
    "file_path_base3 = \"./cnn_parameter/conv3.bias.txt\"\n",
    "file_path_fc1= \"./cnn_parameter/fc1.weight.txt\"\n",
    "file_path_base_fc1 = \"./cnn_parameter/fc1.bias.txt\"\n",
    "file_path_fc2= \"./cnn_parameter/fc2.weight.txt\"\n",
    "file_path_base_fc2 = \"./cnn_parameter/fc2.bias.txt\"\n",
    "\n",
    "file_path_conv1_c= \"./cnn_parameter/conv1.weight_n.txt\"\n",
    "file_path_base1_c = \"./cnn_parameter/conv1.bias_n.txt\"\n",
    "file_path_conv2_c= \"./cnn_parameter/conv2.weight_n.txt\"\n",
    "file_path_base2_c = \"./cnn_parameter/conv2.bias_n.txt\"\n",
    "file_path_conv3_c= \"./cnn_parameter/conv3.weight_n.txt\"\n",
    "file_path_base3_c = \"./cnn_parameter/conv3.bias_n.txt\"\n",
    "file_path_fc1_c= \"./cnn_parameter/fc1.weight_n.txt\"\n",
    "file_path_base_fc1_c =\"./cnn_parameter/fc1.bias_n.txt\"\n",
    "file_path_fc2_c=  \"./cnn_parameter/fc2.weight_n.txt\"\n",
    "file_path_base_fc2_c = \"./cnn_parameter/fc2.bias_n.txt\"\n",
    "\n",
    "\n",
    "change(file_path_conv1,file_path_conv1_c)\n",
    "change(file_path_base1,file_path_base1_c)\n",
    "change(file_path_conv2,file_path_conv2_c)\n",
    "change(file_path_base2,file_path_base2_c)\n",
    "change(file_path_conv3,file_path_conv3_c)\n",
    "change(file_path_base3,file_path_base3_c)\n",
    "change(file_path_fc1,file_path_fc1_c)\n",
    "change(file_path_base_fc1,file_path_base_fc1_c)\n",
    "change(file_path_fc2,file_path_fc2_c)\n",
    "change(file_path_base_fc2,file_path_base_fc2_c)"
   ]
  },
  {
   "cell_type": "code",
   "execution_count": null,
   "id": "834ac8b4",
   "metadata": {},
   "outputs": [],
   "source": []
  }
 ],
 "metadata": {
  "kernelspec": {
   "display_name": "Python 3 (ipykernel)",
   "language": "python",
   "name": "python3"
  },
  "language_info": {
   "codemirror_mode": {
    "name": "ipython",
    "version": 3
   },
   "file_extension": ".py",
   "mimetype": "text/x-python",
   "name": "python",
   "nbconvert_exporter": "python",
   "pygments_lexer": "ipython3",
   "version": "3.9.13"
  }
 },
 "nbformat": 4,
 "nbformat_minor": 5
}
